{
 "cells": [
  {
   "cell_type": "code",
   "execution_count": null,
   "metadata": {},
   "outputs": [],
   "source": [
    "# Imports\n",
    "import numpy as np\n",
    "import matplotlib.pyplot as plt\n",
    "import pickle\n",
    "import matplotlib.cm as cm\n",
    "import os\n",
    "import time\n",
    "import random\n",
    "import bz2\n",
    "import _pickle as cPickle"
   ]
  },
  {
   "cell_type": "code",
   "execution_count": null,
   "metadata": {},
   "outputs": [],
   "source": [
    "def compressed_pickle(title, data):\n",
    "  with bz2.BZ2File(title + '.pbz2', 'w') as f: \n",
    "    cPickle.dump(data, f)"
   ]
  },
  {
   "cell_type": "code",
   "execution_count": null,
   "metadata": {},
   "outputs": [],
   "source": [
    "def decompress_pickle(file):\n",
    " data = bz2.BZ2File(file+'.pbz2', 'rb')\n",
    " data = cPickle.load(data)\n",
    " print(\"Decompressing {}..............Done\\n\".format(file+'.pbz2')+\"+\"*100+\"\\n\");\n",
    " return data"
   ]
  },
  {
   "cell_type": "code",
   "execution_count": null,
   "metadata": {},
   "outputs": [],
   "source": [
    "def save(obj):\n",
    "  dir_name = root_dir + \"RE_\" + str(obj.Re) + obj.dir_suffix;\n",
    "  if not os.path.exists(dir_name):\n",
    "    os.makedirs(dir_name);\n",
    "    file_name = \"/scenario_\"+str(obj.Re)+\".p\";\n",
    "    if (is_compressed):\n",
    "      compressed_pickle(dir_name+file_name, obj);\n",
    "    else:\n",
    "      pickle.dump(obj, open( dir_name+file_name, \"wb\" ))\n",
    "    print(\"Resulted Saved in \"+dir_name)\n",
    "  else:\n",
    "    print(\"File already exists, overwrite is restricted\");\n"
   ]
  },
  {
   "cell_type": "code",
   "execution_count": null,
   "metadata": {},
   "outputs": [],
   "source": [
    "def load(obj):\n",
    "  dir_name = root_dir + \"RE_\" + str(obj.Re) + obj.dir_suffix;\n",
    "  file_name = \"/scenario_\"+str(obj.Re)+\".p\";\n",
    "  print(\"+\"*100+\"\\nLoading file {}\".format(dir_name + file_name))\n",
    "  if(is_compressed):\n",
    "    obj = decompress_pickle(dir_name + file_name);\n",
    "  else:\n",
    "    obj = pickle.load( open( dir_name + file_name, \"rb\" ) );\n",
    "  return obj;"
   ]
  }
 ],
 "metadata": {
  "kernelspec": {
   "display_name": "Python 3",
   "language": "python",
   "name": "python3"
  },
  "language_info": {
   "codemirror_mode": {
    "name": "ipython",
    "version": 3
   },
   "file_extension": ".py",
   "mimetype": "text/x-python",
   "name": "python",
   "nbconvert_exporter": "python",
   "pygments_lexer": "ipython3",
   "version": "3.7.4"
  }
 },
 "nbformat": 4,
 "nbformat_minor": 2
}
